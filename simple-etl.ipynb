{
 "cells": [
  {
   "cell_type": "markdown",
   "metadata": {},
   "source": [
    "## Importing Data and Libraries"
   ]
  },
  {
   "cell_type": "code",
   "execution_count": 3,
   "metadata": {},
   "outputs": [
    {
     "data": {
      "text/html": [
       "<div>\n",
       "<style scoped>\n",
       "    .dataframe tbody tr th:only-of-type {\n",
       "        vertical-align: middle;\n",
       "    }\n",
       "\n",
       "    .dataframe tbody tr th {\n",
       "        vertical-align: top;\n",
       "    }\n",
       "\n",
       "    .dataframe thead th {\n",
       "        text-align: right;\n",
       "    }\n",
       "</style>\n",
       "<table border=\"1\" class=\"dataframe\">\n",
       "  <thead>\n",
       "    <tr style=\"text-align: right;\">\n",
       "      <th></th>\n",
       "      <th>participant_id</th>\n",
       "      <th>first_name</th>\n",
       "      <th>last_name</th>\n",
       "      <th>birth_date</th>\n",
       "      <th>address</th>\n",
       "      <th>phone_number</th>\n",
       "      <th>country</th>\n",
       "      <th>institute</th>\n",
       "      <th>occupation</th>\n",
       "      <th>register_time</th>\n",
       "    </tr>\n",
       "  </thead>\n",
       "  <tbody>\n",
       "    <tr>\n",
       "      <th>0</th>\n",
       "      <td>bd9b6f88-b84f-4c4d-90f8-b67fe2f1a29a</td>\n",
       "      <td>Citra</td>\n",
       "      <td>Nurdiyanti</td>\n",
       "      <td>05 Feb 1991</td>\n",
       "      <td>Gg. Monginsidi No. 08\\nMedan, Aceh 80734</td>\n",
       "      <td>(0151) 081 2706</td>\n",
       "      <td>Georgia</td>\n",
       "      <td>UD Prakasa Mandasari</td>\n",
       "      <td>Business Intelligence Engineer</td>\n",
       "      <td>1.617634e+09</td>\n",
       "    </tr>\n",
       "    <tr>\n",
       "      <th>1</th>\n",
       "      <td>7dfe3391-6f40-47b6-b4db-0c76ebaf5fc3</td>\n",
       "      <td>Aris</td>\n",
       "      <td>Setiawan</td>\n",
       "      <td>11 Jan 1993</td>\n",
       "      <td>Gg. Rajawali Timur No. 7\\nPrabumulih, MA 09434</td>\n",
       "      <td>+62 (036) 461 7027</td>\n",
       "      <td>Korea Utara</td>\n",
       "      <td>Universitas Diponegoro</td>\n",
       "      <td>Frontend Engineer</td>\n",
       "      <td>1.617634e+09</td>\n",
       "    </tr>\n",
       "    <tr>\n",
       "      <th>2</th>\n",
       "      <td>19582d7f-b824-4fe5-a517-d5bf573fc768</td>\n",
       "      <td>Cornelia</td>\n",
       "      <td>Handayani</td>\n",
       "      <td>31 Jul 1993</td>\n",
       "      <td>Jalan Kebonjati No. 0\\nAmbon, SS 57739</td>\n",
       "      <td>089 833 6695</td>\n",
       "      <td>Komoro</td>\n",
       "      <td>UD Hardiansyah Puspasari</td>\n",
       "      <td>Business Analyst</td>\n",
       "      <td>1.617634e+09</td>\n",
       "    </tr>\n",
       "    <tr>\n",
       "      <th>3</th>\n",
       "      <td>aeb6d817-25f3-4867-8a74-8d92e0a0f633</td>\n",
       "      <td>Soleh</td>\n",
       "      <td>Rajasa</td>\n",
       "      <td>04 Nov 1991</td>\n",
       "      <td>Jl. Yos Sudarso No. 109\\nLubuklinggau, SR 76156</td>\n",
       "      <td>+62 (418) 329-4756</td>\n",
       "      <td>Eritrea</td>\n",
       "      <td>Perum Tampubolon Yuliarti</td>\n",
       "      <td>DevOps Engineer</td>\n",
       "      <td>1.617634e+09</td>\n",
       "    </tr>\n",
       "    <tr>\n",
       "      <th>4</th>\n",
       "      <td>1fdabdd9-5444-4c97-87b2-fe8833ad0d27</td>\n",
       "      <td>Vivi</td>\n",
       "      <td>Astuti</td>\n",
       "      <td>22 Jan 2003</td>\n",
       "      <td>Jalan Gardujati No. 53\\nKediri, Sulawesi Tenga...</td>\n",
       "      <td>0812511835</td>\n",
       "      <td>Aljazair</td>\n",
       "      <td>PT Hardiansyah Rahimah</td>\n",
       "      <td>Data Analyst</td>\n",
       "      <td>1.617634e+09</td>\n",
       "    </tr>\n",
       "  </tbody>\n",
       "</table>\n",
       "</div>"
      ],
      "text/plain": [
       "                         participant_id first_name   last_name   birth_date  \\\n",
       "0  bd9b6f88-b84f-4c4d-90f8-b67fe2f1a29a      Citra  Nurdiyanti  05 Feb 1991   \n",
       "1  7dfe3391-6f40-47b6-b4db-0c76ebaf5fc3       Aris    Setiawan  11 Jan 1993   \n",
       "2  19582d7f-b824-4fe5-a517-d5bf573fc768   Cornelia   Handayani  31 Jul 1993   \n",
       "3  aeb6d817-25f3-4867-8a74-8d92e0a0f633      Soleh      Rajasa  04 Nov 1991   \n",
       "4  1fdabdd9-5444-4c97-87b2-fe8833ad0d27       Vivi      Astuti  22 Jan 2003   \n",
       "\n",
       "                                             address        phone_number  \\\n",
       "0           Gg. Monginsidi No. 08\\nMedan, Aceh 80734     (0151) 081 2706   \n",
       "1     Gg. Rajawali Timur No. 7\\nPrabumulih, MA 09434  +62 (036) 461 7027   \n",
       "2             Jalan Kebonjati No. 0\\nAmbon, SS 57739        089 833 6695   \n",
       "3    Jl. Yos Sudarso No. 109\\nLubuklinggau, SR 76156  +62 (418) 329-4756   \n",
       "4  Jalan Gardujati No. 53\\nKediri, Sulawesi Tenga...          0812511835   \n",
       "\n",
       "       country                  institute                      occupation  \\\n",
       "0      Georgia       UD Prakasa Mandasari  Business Intelligence Engineer   \n",
       "1  Korea Utara     Universitas Diponegoro               Frontend Engineer   \n",
       "2       Komoro   UD Hardiansyah Puspasari                Business Analyst   \n",
       "3      Eritrea  Perum Tampubolon Yuliarti                 DevOps Engineer   \n",
       "4     Aljazair     PT Hardiansyah Rahimah                    Data Analyst   \n",
       "\n",
       "   register_time  \n",
       "0   1.617634e+09  \n",
       "1   1.617634e+09  \n",
       "2   1.617634e+09  \n",
       "3   1.617634e+09  \n",
       "4   1.617634e+09  "
      ]
     },
     "execution_count": 3,
     "metadata": {},
     "output_type": "execute_result"
    }
   ],
   "source": [
    "import pandas as pd\n",
    "import numpy as np\n",
    "\n",
    "df_participant = pd.read_csv('https://storage.googleapis.com/dqlab-dataset/dqthon-participants.csv')\n",
    "df_participant.head()"
   ]
  },
  {
   "cell_type": "markdown",
   "metadata": {},
   "source": [
    "## Transforming and Cleaning Data"
   ]
  },
  {
   "cell_type": "markdown",
   "metadata": {},
   "source": [
    "Logistic team need postal code, city, github, email data etc for delivery needs. So we will transform the Postal Code first. What we know is, theres postal code data in address column."
   ]
  },
  {
   "cell_type": "code",
   "execution_count": 5,
   "metadata": {},
   "outputs": [
    {
     "data": {
      "text/plain": [
       "0    80734\n",
       "1    09434\n",
       "2    57739\n",
       "3    76156\n",
       "4    70074\n",
       "Name: postal_code, dtype: object"
      ]
     },
     "execution_count": 5,
     "metadata": {},
     "output_type": "execute_result"
    }
   ],
   "source": [
    "df_participant['postal_code'] = df_participant['address'].str.extract(r'(\\d+)$') \n",
    "df_participant['postal_code'].head()"
   ]
  },
  {
   "cell_type": "code",
   "execution_count": 6,
   "metadata": {},
   "outputs": [
    {
     "data": {
      "text/plain": [
       "0           Medan\n",
       "1      Prabumulih\n",
       "2           Ambon\n",
       "3    Lubuklinggau\n",
       "4          Kediri\n",
       "Name: city, dtype: object"
      ]
     },
     "execution_count": 6,
     "metadata": {},
     "output_type": "execute_result"
    }
   ],
   "source": [
    "df_participant['city'] = df_participant['address'].str.extract(r'(?<=\\n)(\\w.+)(?=,)') \n",
    "df_participant['city'].head()"
   ]
  },
  {
   "cell_type": "code",
   "execution_count": 8,
   "metadata": {},
   "outputs": [
    {
     "data": {
      "text/plain": [
       "0      https://github.com/citranurdiyanti\n",
       "1         https://github.com/arissetiawan\n",
       "2    https://github.com/corneliahandayani\n",
       "3          https://github.com/solehrajasa\n",
       "4           https://github.com/viviastuti\n",
       "Name: github_profile, dtype: object"
      ]
     },
     "execution_count": 8,
     "metadata": {},
     "output_type": "execute_result"
    }
   ],
   "source": [
    "df_participant['github_profile'] = 'https://github.com/' + df_participant['first_name'].str.lower() + df_participant['last_name'].str.lower()\n",
    "df_participant['github_profile'].head()"
   ]
  }
 ],
 "metadata": {
  "kernelspec": {
   "display_name": "Python 3.9.12 ('base')",
   "language": "python",
   "name": "python3"
  },
  "language_info": {
   "codemirror_mode": {
    "name": "ipython",
    "version": 3
   },
   "file_extension": ".py",
   "mimetype": "text/x-python",
   "name": "python",
   "nbconvert_exporter": "python",
   "pygments_lexer": "ipython3",
   "version": "3.9.12"
  },
  "orig_nbformat": 4,
  "vscode": {
   "interpreter": {
    "hash": "ad2bdc8ecc057115af97d19610ffacc2b4e99fae6737bb82f5d7fb13d2f2c186"
   }
  }
 },
 "nbformat": 4,
 "nbformat_minor": 2
}
